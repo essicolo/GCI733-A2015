{
 "cells": [
  {
   "cell_type": "markdown",
   "metadata": {},
   "source": [
    "# Profils de succion et drainage latéral dans les barrières capillaires"
   ]
  },
  {
   "cell_type": "markdown",
   "metadata": {},
   "source": [
    "Pour exécuter une cellule, `Ctrl + Enter`. Pour exécuter une cellule et passer à la suivante, `Maj. + Enter`. Pour exécuter toute la feuille, dans le menu `Cell`, sélectionner `Run All`."
   ]
  },
  {
   "cell_type": "markdown",
   "metadata": {},
   "source": [
    "## Charger les librairies"
   ]
  },
  {
   "cell_type": "code",
   "execution_count": 1,
   "metadata": {
    "collapsed": false
   },
   "outputs": [
    {
     "name": "stdout",
     "output_type": "stream",
     "text": [
      "Populating the interactive namespace from numpy and matplotlib\n"
     ]
    }
   ],
   "source": [
    "%pylab inline\n",
    "import numpy as np\n",
    "import pandas as pd\n",
    "import matplotlib.pyplot as plt\n",
    "import matplotlib.ticker as plticker\n",
    "from scipy.integrate import quad\n",
    "from scipy.interpolate import interp1d\n",
    "pylab.rcParams['figure.figsize'] = (8.0, 6.0)"
   ]
  },
  {
   "cell_type": "markdown",
   "metadata": {},
   "source": [
    "## Modèles hydrauliques\n",
    "\n",
    "### Courbe de rétention d'eau, van Genuchten (1980):\n",
    "\\begin{align}\n",
    "\\theta(\\psi)  = \\theta_{r} + (\\theta_{s} - \\theta_{r})  (1+(a_{VG}  \\psi)^{n_{VG}})^{-m_{VG}} \\\\\n",
    "\\end{align}\n",
    "\n",
    "### Fonction de conductivité hydraulique, van Genuchten et al. (1991), basé sur van Genuchten (1980) et Mualem (1976):\n",
    "\\begin{align}\n",
    "k(\\psi) = k_{sat}  \\frac {(1-((a_{VG}  \\psi)^{n_{VG}m_{VG}})  (1+(a_{VG} \\psi)^{n_{VG}})^{-m_{VG}}))^2} { (1+(a_{VG} \\psi)^{n_{VG}})^{m_{VG}l_{VG}}}\n",
    "\\end{align}"
   ]
  },
  {
   "cell_type": "code",
   "execution_count": 2,
   "metadata": {
    "collapsed": true
   },
   "outputs": [],
   "source": [
    "class VanGenuchten(object):\n",
    "    \"\"\"\n",
    "    Returns the water retention curve and hydraulic conductivity function\n",
    "    according to van Genuchten (1980)'s functions\n",
    "    \"\"\"\n",
    "    def __init__(self, thR, thS, aVG, nVG, mVG, ksat, psi, lVG=0.5):\n",
    "        self.aVG = aVG\n",
    "        self.nVG = nVG\n",
    "        self.mVG = mVG\n",
    "        self.lVG = lVG\n",
    "        self.ksat = ksat\n",
    "        self.thR = thR\n",
    "        self.thS = thS\n",
    "        self.npoints = len(psi)\n",
    "        self.psi = psi\n",
    "        \n",
    "    def wrc(self):\n",
    "        self.th = self.thR + (self.thS - self.thR) * (1+(self.aVG * self.psi) ** self.nVG) ** (-self.mVG)\n",
    "        return([self.psi, self.th])\n",
    "        \n",
    "    def hcf(self):\n",
    "        self.k = self.ksat*((1-((self.aVG*self.psi)**(self.nVG*self.mVG))* \\\n",
    "        ((1+((self.aVG*self.psi)**self.nVG))**(-self.mVG)))**2) / \\\n",
    "        ((1+((self.aVG*self.psi)**self.nVG))**(self.mVG*self.lVG))\n",
    "        return([self.psi, self.k])"
   ]
  },
  {
   "cell_type": "markdown",
   "metadata": {},
   "source": [
    "## Profile de succion dans une colonne de matériau poreux soumis à un débit unitaire\n",
    "\n",
    "Une démonstration similaire a d'abord été publiée parKisch (1959).\n",
    "\n",
    "\\begin{align}\n",
    "q = k(\\psi) \\frac{dh}{dz} \\\\\n",
    "h = z + p = z - \\psi \\\\\n",
    "q = k(\\psi) \\frac{dz - d\\psi}{dz} \\\\\n",
    "q = k(\\psi) (1 - \\frac{d\\psi}{dz}) \\\\\n",
    "\\frac {q}{k(\\psi)} = 1 - \\frac{d\\psi}{dz} \\\\\n",
    "\\frac{d\\psi}{dz} = 1-\\frac {q}{k(\\psi)} \\\\\n",
    "dz = \\frac{d\\psi}{1-\\frac {q}{k(\\psi)}} \\\\\n",
    "z(\\psi) = \\int_{\\psi_{min}}^{\\psi} \\frac{1}{1-\\frac {q}{k(\\psi)}}d\\psi\n",
    "\\end{align}\n",
    "\n",
    "L'intégrale peut être approximée par:\n",
    "\\begin{align}\n",
    "z(\\psi) = \\sum_{i=1}^{n} \\frac{\\Delta\\psi}{1-\\frac {q}{k_n(\\psi)}}\n",
    "\\end{align}"
   ]
  },
  {
   "cell_type": "code",
   "execution_count": 3,
   "metadata": {
    "collapsed": true
   },
   "outputs": [],
   "source": [
    "class VerticalFlow(object):\n",
    "    \"\"\"\n",
    "    This class uses the vertical flow model presented by Kisch (1959).\n",
    "    \"\"\"\n",
    "    def __init__(self, model, q, psiMin = 1e-3, zMin = 0, perc = 0.999):\n",
    "        self.model = model\n",
    "        self.q = q\n",
    "        self.psiMin = psiMin\n",
    "        self.zMin = zMin\n",
    "        self.perc = perc\n",
    "        \n",
    "    def kisch(self):\n",
    "        # suction vector\n",
    "        self.psiModel = self.model.hcf()[0]\n",
    "        self.kModel = self.model.hcf()[1]\n",
    "        \n",
    "        #Find the maximal succion that can be found in a column of a por. mat. described by model under flow q\n",
    "        interpFuncModel = interp1d(np.log10(self.kModel[::-1]), np.log10(self.psiModel[::-1]))\n",
    "        \n",
    "        # succion varies from the minimum succion in the model to the maximal succion value psiMax by deltaPsi\n",
    "        self.psiMax = 10**interpFuncModel(np.log10(self.q))\n",
    "        \n",
    "        # recompute the model between psiMin and psiMax\n",
    "        self.psiNewMod = np.logspace(start = np.log10(self.psiMin), stop = np.log10(self.psiMax),\n",
    "                                     num = self.model.npoints, endpoint = True)\n",
    "        newModel = VanGenuchten(thR = self.model.thR, thS = self.model.thS, \n",
    "                                aVG = self.model.aVG, nVG = self.model.nVG, mVG = self.model.mVG, \n",
    "                                lVG = self.model.lVG, ksat = self.model.ksat, psi = self.psiNewMod)\n",
    "        \n",
    "        self.psiKisch = newModel.hcf()[0] # suction vector\n",
    "        self.kKisch = newModel.hcf()[1] # hydraulic conductivity vector\n",
    "                \n",
    "        # delta psi\n",
    "        self.psiKischB = np.append(self.psiMin, self.psiKisch)\n",
    "        self.deltaPsiKisch = []\n",
    "        for i in range(1, len(self.psiKischB)):\n",
    "            d = self.psiKischB[i] - self.psiKischB[i-1]\n",
    "            self.deltaPsiKisch.append(d)\n",
    "        self.deltaPsiKisch = np.array(self.deltaPsiKisch)\n",
    "        \n",
    "        # kisch\n",
    "        zPieces = self.deltaPsiKisch / (1 - self.q/self.kKisch) # pieces to sum\n",
    "        self.z = []\n",
    "        for i in range(0, len(self.deltaPsiKisch)):\n",
    "            self.z.append(np.sum(zPieces[0:i]))\n",
    "        self.z = np.array(self.z) + self.zMin     \n",
    "        \n",
    "        return([self.psiKisch, self.z, self.psiMax])"
   ]
  },
  {
   "cell_type": "markdown",
   "metadata": {},
   "source": [
    "## Matériaux"
   ]
  },
  {
   "cell_type": "markdown",
   "metadata": {},
   "source": [
    "Exécuter la cellule qui correpond à vos matériaux."
   ]
  },
  {
   "cell_type": "code",
   "execution_count": 4,
   "metadata": {
    "collapsed": true
   },
   "outputs": [],
   "source": [
    "# CBL parameters\n",
    "cblthR = 0.017\n",
    "cblthS = 0.37\n",
    "cblaVG = 3.07 * 9.807 # 9.807 pour convertir en en m-1\n",
    "cblnVG = 3.33\n",
    "cblmVG = 1 - 1/cblnVG\n",
    "cbllVG = 0.5\n",
    "cblksat = 2.3e-3 # m/s\n",
    "\n",
    "# MRL parameters\n",
    "mrlthR = 0.03 # 0.1 # \n",
    "mrlthS = 0.4 #0.43 # \n",
    "mrlaVG = 0.347 * 9.807 #0.14 * 9.807 # 9.807 pour convertir en en m-1\n",
    "mrlnVG = 2.29 # 1.23 # \n",
    "mrlmVG = 1 - 1/mrlnVG\n",
    "mrllVG = 0.5\n",
    "mrlksat = 8e-5 # 1.9e-7# m/s"
   ]
  },
  {
   "cell_type": "markdown",
   "metadata": {},
   "source": [
    "## Modèle d'infiltration vertical"
   ]
  },
  {
   "cell_type": "markdown",
   "metadata": {},
   "source": [
    "### Créer des instances pour les deux matériaux"
   ]
  },
  {
   "cell_type": "code",
   "execution_count": 5,
   "metadata": {
    "collapsed": true
   },
   "outputs": [],
   "source": [
    "npoints = 500\n",
    "psiCBL = np.logspace(start = -2, stop = 2, num = npoints, endpoint = True)\n",
    "psiMRL = np.logspace(start = -2, stop = 2, num = npoints, endpoint = True)\n",
    "\n",
    "cblModel = VanGenuchten(thR = cblthR, thS = cblthS, aVG = cblaVG, nVG = cblnVG, mVG = 1-1/cblnVG, \n",
    "                        lVG = cbllVG, ksat = cblksat, psi = psiCBL)\n",
    "mrlModel = VanGenuchten(thR = mrlthR, thS = mrlthS, aVG = mrlaVG, nVG = mrlnVG, mVG = 1-1/mrlnVG, \n",
    "                        lVG = mrllVG, ksat = mrlksat, psi = psiMRL)"
   ]
  },
  {
   "cell_type": "markdown",
   "metadata": {},
   "source": [
    "### Calculer le modèle de Kisch"
   ]
  },
  {
   "cell_type": "code",
   "execution_count": 6,
   "metadata": {
    "collapsed": false
   },
   "outputs": [
    {
     "name": "stdout",
     "output_type": "stream",
     "text": [
      "La succion maximale obtenur dans la CBL pour un débit de  1e-08 m/s est de 0.146582685679 m.\n",
      "La succion maximale obtenur dans la MRL pour un débit de  1e-08 m/s est de 1.30238378993 m.\n"
     ]
    }
   ],
   "source": [
    "unit_flow = 1e-8\n",
    "\n",
    "# CBL profile\n",
    "profileCBL = VerticalFlow(model = cblModel, q = unit_flow, psiMin = 1e-4, zMin = 0)\n",
    "profileCBL.kisch()\n",
    "\n",
    "# MRL profile\n",
    "profileMRL = VerticalFlow(model = mrlModel, q = unit_flow, \n",
    "                          psiMin = np.max(profileCBL.kisch()[0]), zMin = 0.5, perc = 1)\n",
    "profileMRL.kisch()\n",
    "\n",
    "print ('La succion maximale obtenur dans la CBL pour un débit de ', unit_flow, 'm/s est de', profileCBL.psiMax, 'm.')\n",
    "print ('La succion maximale obtenur dans la MRL pour un débit de ', unit_flow, 'm/s est de', profileMRL.psiMax, 'm.')"
   ]
  },
  {
   "cell_type": "markdown",
   "metadata": {},
   "source": [
    "### Graphiques des fonctions hydrauliques\n"
   ]
  },
  {
   "cell_type": "code",
   "execution_count": 7,
   "metadata": {
    "collapsed": false
   },
   "outputs": [
    {
     "data": {
      "image/png": "[encoded data removed]",
      "text/plain": [
       "<matplotlib.figure.Figure at 0x7efe5f5d1a20>"
      ]
     },
     "metadata": {},
     "output_type": "display_data"
    }
   ],
   "source": [
    "data = pd.DataFrame.from_items([('psi', cblModel.wrc()[0]),\n",
    "                                ('theta', cblModel.wrc()[1])])\n",
    "fontSize = 16\n",
    "fig1, axes = plt.subplots(nrows=2, ncols=1, figsize=(6, 12))\n",
    "axes[0].set_axisbelow(True)\n",
    "axes[0].tick_params(labelsize = fontSize * 0.8)\n",
    "axes[0].grid(b=True, which='major', color='#eeeeee', linestyle='-')\n",
    "axes[0].grid(b=True, which='minor', color='#e9e9e9', linestyle='-')\n",
    "axes[0].set_ylabel(r'$\\theta (m^3/m^3)$', fontsize = fontSize)\n",
    "axes[0].set_xscale('log')\n",
    "axes[0].set_xticks([0.1, 1, 10, 100, 1000])\n",
    "axes[0].get_xaxis().set_major_formatter(matplotlib.ticker.ScalarFormatter())\n",
    "axes[0].plot(cblModel.wrc()[0] * 9.807, cblModel.wrc()[1], linestyle='-', color = 'black', \n",
    "             linewidth=2, label=\"CBL material\")\n",
    "axes[0].plot(mrlModel.wrc()[0] * 9.807, mrlModel.wrc()[1], linestyle='-', color = 'black', \n",
    "             label=\"MRL material\")\n",
    "legend = axes[0].legend(fontsize = fontSize * 0.8)\n",
    "frame = legend.get_frame()\n",
    "frame.set_facecolor('1.00')\n",
    "\n",
    "axes[1].set_axisbelow(True)\n",
    "axes[1].tick_params(labelsize = fontSize * 0.8)\n",
    "axes[1].grid(b=True, which='major', color='#eeeeee', linestyle='-')\n",
    "axes[1].grid(b=True, which='minor', color='#e9e9e9', linestyle='-')\n",
    "axes[1].set_xlabel(r'$s (kPa)$', fontsize = fontSize)\n",
    "axes[1].set_ylabel(r'$k (m/s)$', fontsize = fontSize)\n",
    "axes[1].set_xscale('log')\n",
    "axes[1].set_xticks([0.1, 1, 10, 100, 1000])\n",
    "axes[1].set_yscale('log')\n",
    "axes[1].set_ylim([1e-16, 1e-2])\n",
    "axes[1].get_xaxis().set_major_formatter(matplotlib.ticker.ScalarFormatter())\n",
    "\n",
    "# kFn\n",
    "axes[1].plot(cblModel.hcf()[0] * 9.807, cblModel.hcf()[1], linestyle='-', linewidth = 2, color = 'black', label=\"CBL material\")\n",
    "axes[1].plot(mrlModel.hcf()[0] * 9.807, mrlModel.hcf()[1], linestyle='-', color = 'black', label=\"MRL material\")\n",
    "\n",
    "# Model\n",
    "axes[1].plot([0.1, 1000], [unit_flow, unit_flow], # profileMRL.psiMax\n",
    "             linestyle='--', color = 'black', label=\"Unit flow\") #  unit flow\n",
    "axes[1].plot([profileCBL.psiMax * 9.807, profileCBL.psiMax * 9.807], [unit_flow, 1e-16],\n",
    "             linestyle='-.', color = 'black', label=r'$s_{CBL_{max}}$') \n",
    "axes[1].plot([profileMRL.psiMax * 9.807, profileMRL.psiMax * 9.807], [unit_flow, 1e-16], \n",
    "             linestyle=':', color = 'black', label=r'$s_{MRL_{max}}$')\n",
    "axes[1].text(profileCBL.psiMax * 9.807 - 0.9, 5e-9, r\"$s_{max_{CBL}}$\", \n",
    "             fontsize = fontSize * 0.8, color=\"black\", rotation = \"vertical\")\n",
    "axes[1].text(profileMRL.psiMax * 9.807 + 1.0, 5e-9, r\"$s_{max_{MRL}}$\", \n",
    "             fontsize = fontSize * 0.8, color=\"black\", rotation = \"vertical\")\n",
    "\n",
    "legend = axes[1].legend(fontsize = fontSize * 0.8)\n",
    "frame = legend.get_frame()\n",
    "frame.set_facecolor('1.00')\n",
    "#fig1.savefig('fig1.svg') "
   ]
  },
  {
   "cell_type": "markdown",
   "metadata": {},
   "source": [
    "### Graphiques des profils"
   ]
  },
  {
   "cell_type": "code",
   "execution_count": 8,
   "metadata": {
    "collapsed": false
   },
   "outputs": [
    {
     "data": {
      "text/plain": [
       "[<matplotlib.lines.Line2D at 0x7efe5b6f0438>]"
      ]
     },
     "execution_count": 8,
     "metadata": {},
     "output_type": "execute_result"
    },
    {
     "data": {
      "image/png": "[encoded data removed]",
      "text/plain": [
       "<matplotlib.figure.Figure at 0x7efe5b754160>"
      ]
     },
     "metadata": {},
     "output_type": "display_data"
    }
   ],
   "source": [
    "fig2, axes = plt.subplots(nrows=1, ncols=3, figsize=(16,6))\n",
    "\n",
    "# Suction profile\n",
    "axes[0].set_axisbelow(True)\n",
    "axes[0].tick_params(labelsize = fontSize * 0.8)\n",
    "\n",
    "axes[0].xaxis.set_major_locator(plticker.MultipleLocator(base=1.0))\n",
    "\n",
    "axes[0].grid(b=True, which='major', color='#eeeeee', linestyle='-')\n",
    "axes[0].grid(b=True, which='minor', color='#e9e9e9', linestyle='-')\n",
    "axes[0].set_xlabel(r'$s (kPa)$', fontsize = fontSize)\n",
    "axes[0].set_ylabel(r'$Elevation (m)$', fontsize = fontSize)\n",
    "axes[0].plot(np.append(profileCBL.kisch()[0], profileMRL.kisch()[0]) * 9.807,\n",
    "             np.append(profileCBL.kisch()[1], profileMRL.kisch()[1]),\n",
    "             linestyle='-', color = 'black')\n",
    "axes[0].plot([profileCBL.psiMax * 9.807, profileCBL.psiMax * 9.807],\n",
    "             [0, 0.5],\n",
    "             linestyle='-.', color = 'black')\n",
    "axes[0].plot([profileMRL.psiMax * 9.807,profileMRL.psiMax * 9.807],\n",
    "             [0, max(profileMRL.kisch()[1])],\n",
    "             linestyle=':', color = 'black')\n",
    "axes[0].plot([0, 4.0], [0.5, 0.5], linestyle = \"--\", color = \"#aaaaaa\")\n",
    "\n",
    "# Water content profile\n",
    "psiInterfaceCBL = np.append(profileCBL.kisch()[0], profileCBL.psiMax)\n",
    "zInterfaceCBL = np.append(profileCBL.kisch()[1], 0.49999)\n",
    "cblNew = VanGenuchten(thR = cblthR, thS = cblthS, aVG = cblaVG, nVG = cblnVG, mVG = 1-1/cblnVG, \n",
    "                      lVG = cbllVG, ksat = cblksat, psi = psiInterfaceCBL)\n",
    "mrlNew = VanGenuchten(thR = mrlthR, thS = mrlthS, aVG = mrlaVG, nVG = mrlnVG, mVG = 1-1/mrlnVG, \n",
    "                      lVG = mrllVG, ksat = mrlksat, psi = profileMRL.kisch()[0])\n",
    "\n",
    "axes[1].set_axisbelow(True)\n",
    "axes[1].tick_params(labelsize = fontSize * 0.8)\n",
    "axes[1].grid(b=True, which='major', color='#eeeeee', linestyle='-')\n",
    "axes[1].grid(b=True, which='minor', color='#e9e9e9', linestyle='-')\n",
    "axes[1].set_xlabel(r'$\\theta (m^3/m^3)$', fontsize = fontSize)\n",
    "axes[1].plot(np.append(cblNew.wrc()[1], mrlNew.wrc()[1]),\n",
    "             np.append(zInterfaceCBL, profileMRL.kisch()[1]),\n",
    "             linestyle='-', color = 'black')\n",
    "axes[1].plot([0, 0.5], [0.5, 0.5], linestyle = \"--\", color = \"#aaaaaa\")\n",
    "\n",
    "# Hydraulic conductivity profile\n",
    "axes[2].set_axisbelow(True)\n",
    "axes[2].tick_params(labelsize = fontSize * 0.8)\n",
    "axes[2].grid(b=True, which='major', color='#eeeeee', linestyle='-')\n",
    "axes[2].grid(b=True, which='minor', color='#e9e9e9', linestyle='-')\n",
    "axes[2].set_xlabel(r'$k (m/s)$', fontsize = fontSize)\n",
    "axes[2].set_xscale('log')\n",
    "axes[2].set_xlim([1e-9, 1e-4])\n",
    "axes[2].plot(np.append(cblNew.hcf()[1], mrlNew.hcf()[1]),\n",
    "             np.append(zInterfaceCBL, profileMRL.kisch()[1]),\n",
    "             linestyle='-', color = 'black')\n",
    "axes[2].plot([unit_flow, unit_flow], [0, max(profileMRL.kisch()[1])], linestyle = \"--\", color = \"black\")\n",
    "axes[2].plot([0, 0.5], [1e-3, 0.5], linestyle = \"--\", color = \"#aaaaaa\")\n",
    "#fig2.savefig('fig2.svg') "
   ]
  },
  {
   "cell_type": "markdown",
   "metadata": {},
   "source": [
    "## Drainage latéral dans une barrière capillaire inclinée\n",
    "\n",
    "Ross (1990) décrit le modèle suivant.\n",
    "\n",
    "\\begin{align}\n",
    "Q_{max} = \\tan(\\phi) \\int_{\\psi_{CBC}}^{\\psi_{CRC}} k(\\psi) d\\psi \\\\\n",
    "L = \\frac {Q_{max}}{q}\n",
    "\\end{align}"
   ]
  },
  {
   "cell_type": "code",
   "execution_count": 9,
   "metadata": {
    "collapsed": true
   },
   "outputs": [],
   "source": [
    "def k_vanGenuchten(x, aVG, nVG, mVG, ksat, lVG = 0.5):\n",
    "        k = ksat * ((1 - ((aVG * x)**(nVG * mVG)) * \\\n",
    "        ((1 + ((aVG * x)**nVG))**(-mVG)))**2) / \\\n",
    "        ((1 + ((aVG * x)**nVG))**(mVG * lVG))\n",
    "        return(k)"
   ]
  },
  {
   "cell_type": "markdown",
   "metadata": {},
   "source": [
    "### Épaisseur minimale de la couche de bris capillaire (CBC ou CBL)"
   ]
  },
  {
   "cell_type": "code",
   "execution_count": 10,
   "metadata": {
    "collapsed": false
   },
   "outputs": [
    {
     "data": {
      "text/plain": [
       "0.14658268567879312"
      ]
     },
     "execution_count": 10,
     "metadata": {},
     "output_type": "execute_result"
    }
   ],
   "source": [
    "profileCBL.psiMax"
   ]
  },
  {
   "cell_type": "markdown",
   "metadata": {},
   "source": [
    "### Épaisseur de la couche de rétention capillaire (CRC ou MRL)"
   ]
  },
  {
   "cell_type": "code",
   "execution_count": 11,
   "metadata": {
    "collapsed": false
   },
   "outputs": [],
   "source": [
    "pente = 0.25\n",
    "\n",
    "# changer le multiplicateur  profileMRL.psiMax * 1 ou profileMRL.psiMax * 10 pour obtenir une plage de calcul plus large\n",
    "mrlPsi = np.linspace(start = profileCBL.psiMax, stop = profileMRL.psiMax * 1, num = 50, endpoint = True) \n",
    "mrlTh = mrlPsi - profileCBL.psiMax\n",
    "Qmax = []\n",
    "L = []\n",
    "for i in range(0, len(mrlPsi)):\n",
    "    Qmax.append(pente * quad(k_vanGenuchten, profileCBL.psiMax, mrlPsi[i], args=(mrlaVG, mrlnVG, mrlmVG, mrlksat, mrllVG))[0])\n",
    "    L.append(Qmax[i] / unit_flow)"
   ]
  },
  {
   "cell_type": "code",
   "execution_count": 12,
   "metadata": {
    "collapsed": false
   },
   "outputs": [
    {
     "data": {
      "image/png": "[encoded data removed]",
      "text/plain": [
       "<matplotlib.figure.Figure at 0x7efe59c43b70>"
      ]
     },
     "metadata": {},
     "output_type": "display_data"
    }
   ],
   "source": [
    "plot(mrlTh, L, color = 'black')\n",
    "xlabel('MRL thickness (m)', fontsize = fontSize)\n",
    "ylabel('Diversion length (m)', fontsize = fontSize)\n",
    "grid()"
   ]
  },
  {
   "cell_type": "code",
   "execution_count": 13,
   "metadata": {
    "collapsed": false
   },
   "outputs": [
    {
     "name": "stdout",
     "output_type": "stream",
     "text": [
      "Le débit de transfert maximal dans la barrière capillaire est de 7.746872984104624e-07 m²/s.\n",
      "La longueur de transfert maximale dans la barrière capillaire est de 77.46872984104624 m.\n"
     ]
    }
   ],
   "source": [
    "print ('Le débit de transfert maximal dans la barrière capillaire est de', max(Qmax), 'm²/s.')\n",
    "print ('La longueur de transfert maximale dans la barrière capillaire est de', max(L), 'm.')"
   ]
  },
  {
   "cell_type": "code",
   "execution_count": 14,
   "metadata": {
    "collapsed": false
   },
   "outputs": [
    {
     "data": {
      "text/html": [
       "<div>\n",
       "<table border=\"1\" class=\"dataframe\">\n",
       "  <thead>\n",
       "    <tr style=\"text-align: right;\">\n",
       "      <th></th>\n",
       "      <th>0</th>\n",
       "    </tr>\n",
       "  </thead>\n",
       "  <tbody>\n",
       "    <tr>\n",
       "      <th>0.000000</th>\n",
       "      <td>0.000000</td>\n",
       "    </tr>\n",
       "    <tr>\n",
       "      <th>16.075837</th>\n",
       "      <td>0.023588</td>\n",
       "    </tr>\n",
       "    <tr>\n",
       "      <th>28.870588</th>\n",
       "      <td>0.047176</td>\n",
       "    </tr>\n",
       "    <tr>\n",
       "      <th>38.974158</th>\n",
       "      <td>0.070763</td>\n",
       "    </tr>\n",
       "    <tr>\n",
       "      <th>46.912306</th>\n",
       "      <td>0.094351</td>\n",
       "    </tr>\n",
       "    <tr>\n",
       "      <th>53.132949</th>\n",
       "      <td>0.117939</td>\n",
       "    </tr>\n",
       "    <tr>\n",
       "      <th>58.005202</th>\n",
       "      <td>0.141527</td>\n",
       "    </tr>\n",
       "    <tr>\n",
       "      <th>61.825920</th>\n",
       "      <td>0.165114</td>\n",
       "    </tr>\n",
       "    <tr>\n",
       "      <th>64.829704</th>\n",
       "      <td>0.188702</td>\n",
       "    </tr>\n",
       "    <tr>\n",
       "      <th>67.199720</th>\n",
       "      <td>0.212290</td>\n",
       "    </tr>\n",
       "    <tr>\n",
       "      <th>69.077850</th>\n",
       "      <td>0.235878</td>\n",
       "    </tr>\n",
       "    <tr>\n",
       "      <th>70.573492</th>\n",
       "      <td>0.259466</td>\n",
       "    </tr>\n",
       "    <tr>\n",
       "      <th>71.770821</th>\n",
       "      <td>0.283053</td>\n",
       "    </tr>\n",
       "    <tr>\n",
       "      <th>72.734602</th>\n",
       "      <td>0.306641</td>\n",
       "    </tr>\n",
       "    <tr>\n",
       "      <th>73.514732</th>\n",
       "      <td>0.330229</td>\n",
       "    </tr>\n",
       "    <tr>\n",
       "      <th>74.149755</th>\n",
       "      <td>0.353817</td>\n",
       "    </tr>\n",
       "    <tr>\n",
       "      <th>74.669542</th>\n",
       "      <td>0.377404</td>\n",
       "    </tr>\n",
       "    <tr>\n",
       "      <th>75.097339</th>\n",
       "      <td>0.400992</td>\n",
       "    </tr>\n",
       "    <tr>\n",
       "      <th>75.451313</th>\n",
       "      <td>0.424580</td>\n",
       "    </tr>\n",
       "    <tr>\n",
       "      <th>75.745728</th>\n",
       "      <td>0.448168</td>\n",
       "    </tr>\n",
       "    <tr>\n",
       "      <th>75.991844</th>\n",
       "      <td>0.471756</td>\n",
       "    </tr>\n",
       "    <tr>\n",
       "      <th>76.198586</th>\n",
       "      <td>0.495343</td>\n",
       "    </tr>\n",
       "    <tr>\n",
       "      <th>76.373070</th>\n",
       "      <td>0.518931</td>\n",
       "    </tr>\n",
       "    <tr>\n",
       "      <th>76.520996</th>\n",
       "      <td>0.542519</td>\n",
       "    </tr>\n",
       "    <tr>\n",
       "      <th>76.646950</th>\n",
       "      <td>0.566107</td>\n",
       "    </tr>\n",
       "    <tr>\n",
       "      <th>76.754644</th>\n",
       "      <td>0.589694</td>\n",
       "    </tr>\n",
       "    <tr>\n",
       "      <th>76.847094</th>\n",
       "      <td>0.613282</td>\n",
       "    </tr>\n",
       "    <tr>\n",
       "      <th>76.926762</th>\n",
       "      <td>0.636870</td>\n",
       "    </tr>\n",
       "    <tr>\n",
       "      <th>76.995669</th>\n",
       "      <td>0.660458</td>\n",
       "    </tr>\n",
       "    <tr>\n",
       "      <th>77.055479</th>\n",
       "      <td>0.684046</td>\n",
       "    </tr>\n",
       "    <tr>\n",
       "      <th>77.107569</th>\n",
       "      <td>0.707633</td>\n",
       "    </tr>\n",
       "    <tr>\n",
       "      <th>77.153083</th>\n",
       "      <td>0.731221</td>\n",
       "    </tr>\n",
       "    <tr>\n",
       "      <th>77.192975</th>\n",
       "      <td>0.754809</td>\n",
       "    </tr>\n",
       "    <tr>\n",
       "      <th>77.228044</th>\n",
       "      <td>0.778397</td>\n",
       "    </tr>\n",
       "    <tr>\n",
       "      <th>77.258962</th>\n",
       "      <td>0.801984</td>\n",
       "    </tr>\n",
       "    <tr>\n",
       "      <th>77.286296</th>\n",
       "      <td>0.825572</td>\n",
       "    </tr>\n",
       "    <tr>\n",
       "      <th>77.310525</th>\n",
       "      <td>0.849160</td>\n",
       "    </tr>\n",
       "    <tr>\n",
       "      <th>77.332057</th>\n",
       "      <td>0.872748</td>\n",
       "    </tr>\n",
       "    <tr>\n",
       "      <th>77.351239</th>\n",
       "      <td>0.896336</td>\n",
       "    </tr>\n",
       "    <tr>\n",
       "      <th>77.368367</th>\n",
       "      <td>0.919923</td>\n",
       "    </tr>\n",
       "    <tr>\n",
       "      <th>77.383698</th>\n",
       "      <td>0.943511</td>\n",
       "    </tr>\n",
       "    <tr>\n",
       "      <th>77.397448</th>\n",
       "      <td>0.967099</td>\n",
       "    </tr>\n",
       "    <tr>\n",
       "      <th>77.409808</th>\n",
       "      <td>0.990687</td>\n",
       "    </tr>\n",
       "    <tr>\n",
       "      <th>77.420940</th>\n",
       "      <td>1.014274</td>\n",
       "    </tr>\n",
       "    <tr>\n",
       "      <th>77.430987</th>\n",
       "      <td>1.037862</td>\n",
       "    </tr>\n",
       "    <tr>\n",
       "      <th>77.440070</th>\n",
       "      <td>1.061450</td>\n",
       "    </tr>\n",
       "    <tr>\n",
       "      <th>77.448298</th>\n",
       "      <td>1.085038</td>\n",
       "    </tr>\n",
       "    <tr>\n",
       "      <th>77.455764</th>\n",
       "      <td>1.108626</td>\n",
       "    </tr>\n",
       "    <tr>\n",
       "      <th>77.462551</th>\n",
       "      <td>1.132213</td>\n",
       "    </tr>\n",
       "    <tr>\n",
       "      <th>77.468730</th>\n",
       "      <td>1.155801</td>\n",
       "    </tr>\n",
       "  </tbody>\n",
       "</table>\n",
       "</div>"
      ],
      "text/plain": [
       "                  0\n",
       "0.000000   0.000000\n",
       "16.075837  0.023588\n",
       "28.870588  0.047176\n",
       "38.974158  0.070763\n",
       "46.912306  0.094351\n",
       "53.132949  0.117939\n",
       "58.005202  0.141527\n",
       "61.825920  0.165114\n",
       "64.829704  0.188702\n",
       "67.199720  0.212290\n",
       "69.077850  0.235878\n",
       "70.573492  0.259466\n",
       "71.770821  0.283053\n",
       "72.734602  0.306641\n",
       "73.514732  0.330229\n",
       "74.149755  0.353817\n",
       "74.669542  0.377404\n",
       "75.097339  0.400992\n",
       "75.451313  0.424580\n",
       "75.745728  0.448168\n",
       "75.991844  0.471756\n",
       "76.198586  0.495343\n",
       "76.373070  0.518931\n",
       "76.520996  0.542519\n",
       "76.646950  0.566107\n",
       "76.754644  0.589694\n",
       "76.847094  0.613282\n",
       "76.926762  0.636870\n",
       "76.995669  0.660458\n",
       "77.055479  0.684046\n",
       "77.107569  0.707633\n",
       "77.153083  0.731221\n",
       "77.192975  0.754809\n",
       "77.228044  0.778397\n",
       "77.258962  0.801984\n",
       "77.286296  0.825572\n",
       "77.310525  0.849160\n",
       "77.332057  0.872748\n",
       "77.351239  0.896336\n",
       "77.368367  0.919923\n",
       "77.383698  0.943511\n",
       "77.397448  0.967099\n",
       "77.409808  0.990687\n",
       "77.420940  1.014274\n",
       "77.430987  1.037862\n",
       "77.440070  1.061450\n",
       "77.448298  1.085038\n",
       "77.455764  1.108626\n",
       "77.462551  1.132213\n",
       "77.468730  1.155801"
      ]
     },
     "execution_count": 14,
     "metadata": {},
     "output_type": "execute_result"
    }
   ],
   "source": [
    "pd.DataFrame(mrlTh, L)"
   ]
  }
 ],
 "metadata": {
  "kernelspec": {
   "display_name": "Python 3",
   "language": "python",
   "name": "python3"
  },
  "language_info": {
   "codemirror_mode": {
    "name": "ipython",
    "version": 3
   },
   "file_extension": ".py",
   "mimetype": "text/x-python",
   "name": "python",
   "nbconvert_exporter": "python",
   "pygments_lexer": "ipython3",
   "version": "3.4.3"
  },
  "name": "barriere-capillaire.ipynb"
 },
 "nbformat": 4,
 "nbformat_minor": 0
}
