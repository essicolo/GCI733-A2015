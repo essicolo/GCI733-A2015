{
 "cells": [
  {
   "cell_type": "markdown",
   "metadata": {},
   "source": [
    "# Profils de succion et drainage latéral dans les barrières capillaires"
   ]
  },
  {
   "cell_type": "markdown",
   "metadata": {},
   "source": [
    "Pour exécuter une cellule, `Ctrl + Enter`. Pour exécuter une cellule et passer à la suivante, `Maj. + Enter`. Pour exécuter toute la feuille, dans le menu `Cell`, sélectionner `Run All`."
   ]
  },
  {
   "cell_type": "markdown",
   "metadata": {},
   "source": [
    "## Charger les librairies"
   ]
  },
  {
   "cell_type": "code",
   "execution_count": 1,
   "metadata": {
    "collapsed": false
   },
   "outputs": [
    {
     "name": "stdout",
     "output_type": "stream",
     "text": [
      "Populating the interactive namespace from numpy and matplotlib\n"
     ]
    }
   ],
   "source": [
    "%pylab inline\n",
    "import numpy as np\n",
    "import matplotlib.pyplot as plt\n",
    "from scipy.integrate import quad\n",
    "from scipy.interpolate import interp1d\n",
    "pylab.rcParams['figure.figsize'] = (8.0, 6.0)"
   ]
  },
  {
   "cell_type": "markdown",
   "metadata": {},
   "source": [
    "## Modèles hydrauliques\n",
    "\n",
    "### Courbe de rétention d'eau, van Genuchten (1980):\n",
    "\\begin{align}\n",
    "\\theta(\\psi)  = \\theta_{r} + (\\theta_{s} - \\theta_{r})  (1+(a_{VG}  \\psi)^{n_{VG}})^{-m_{VG}} \\\\\n",
    "\\end{align}\n",
    "\n",
    "### Fonction de conductivité hydraulique, van Genuchten et al. (1991), basé sur van Genuchten (1980) et Mualem (1976):\n",
    "\\begin{align}\n",
    "k(\\psi) = k_{sat}  \\frac {(1-((a_{VG}  \\psi)^{n_{VG}m_{VG}})  (1+(a_{VG} \\psi)^{n_{VG}})^{-m_{VG}}))^2} { (1+(a_{VG} \\psi)^{n_{VG}})^{m_{VG}l_{VG}}}\n",
    "\\end{align}"
   ]
  },
  {
   "cell_type": "code",
   "execution_count": 2,
   "metadata": {
    "collapsed": true
   },
   "outputs": [],
   "source": [
    "class VanGenuchten(object):\n",
    "    \"\"\"\n",
    "    Returns the water retention curve and hydraulic conductivity function\n",
    "    according to van Genuchten (1980)'s functions\n",
    "    \"\"\"\n",
    "    def __init__(self, thR, thS, aVG, nVG, mVG, ksat, psi, lVG=0.5):\n",
    "        self.aVG = aVG\n",
    "        self.nVG = nVG\n",
    "        self.mVG = mVG\n",
    "        self.lVG = lVG\n",
    "        self.ksat = ksat\n",
    "        self.thR = thR\n",
    "        self.thS = thS\n",
    "        self.npoints = len(psi)\n",
    "        self.psi = psi\n",
    "        \n",
    "    def wrc(self):\n",
    "        self.th = self.thR + (self.thS - self.thR) * (1+(self.aVG * self.psi) ** self.nVG) ** (-self.mVG)\n",
    "        return([self.psi, self.th])\n",
    "        \n",
    "    def hcf(self):\n",
    "        self.k = self.ksat*((1-((self.aVG*self.psi)**(self.nVG*self.mVG))* \\\n",
    "        ((1+((self.aVG*self.psi)**self.nVG))**(-self.mVG)))**2) / \\\n",
    "        ((1+((self.aVG*self.psi)**self.nVG))**(self.mVG*self.lVG))\n",
    "        return([self.psi, self.k])"
   ]
  },
  {
   "cell_type": "markdown",
   "metadata": {},
   "source": [
    "## Profile de succion dans une colonne de matériau poreux soumis à un débit unitaire\n",
    "\n",
    "Une démonstration similaire a d'abord été publiée parKisch (1959).\n",
    "\n",
    "\\begin{align}\n",
    "q = k(\\psi) \\frac{dh}{dz} \\\\\n",
    "h = z + p = z - \\psi \\\\\n",
    "q = k(\\psi) \\frac{dz - d\\psi}{dz} \\\\\n",
    "q = k(\\psi) (1 - \\frac{d\\psi}{dz}) \\\\\n",
    "\\frac {q}{k(\\psi)} = 1 - \\frac{d\\psi}{dz} \\\\\n",
    "\\frac{d\\psi}{dz} = 1-\\frac {q}{k(\\psi)} \\\\\n",
    "dz = \\frac{d\\psi}{1-\\frac {q}{k(\\psi)}} \\\\\n",
    "z(\\psi) = \\int_{\\psi_{min}}^{\\psi} \\frac{1}{1-\\frac {q}{k(\\psi)}}d\\psi\n",
    "\\end{align}\n",
    "\n",
    "L'intégrale peut être approximée par:\n",
    "\\begin{align}\n",
    "z(\\psi) = \\sum_{i=1}^{n} \\frac{\\Delta\\psi}{1-\\frac {q}{k_n(\\psi)}}\n",
    "\\end{align}"
   ]
  },
  {
   "cell_type": "code",
   "execution_count": 3,
   "metadata": {
    "collapsed": true
   },
   "outputs": [],
   "source": [
    "class VerticalFlow(object):\n",
    "    \"\"\"\n",
    "    This class uses the vertical flow model presented by Kisch (1959).\n",
    "    \"\"\"\n",
    "    def __init__(self, model, q, psiMin = 1e-3, zMin = 0, perc = 0.999):\n",
    "        self.model = model\n",
    "        self.q = q\n",
    "        self.psiMin = psiMin\n",
    "        self.zMin = zMin\n",
    "        self.perc = perc\n",
    "        \n",
    "    def kisch(self):\n",
    "        # suction vector\n",
    "        self.psiModel = self.model.hcf()[0]\n",
    "        self.kModel = self.model.hcf()[1]\n",
    "        \n",
    "        #Find the maximal succion that can be found in a column of a por. mat. described by model under flow q\n",
    "        interpFuncModel = interp1d(np.log10(self.kModel[::-1]), np.log10(self.psiModel[::-1]))\n",
    "        \n",
    "        # succion varies from the minimum succion in the model to the maximal succion value psiMax by deltaPsi\n",
    "        self.psiMax = 10**interpFuncModel(np.log10(self.q))\n",
    "        \n",
    "        # recompute the model between psiMin and psiMax\n",
    "        self.psiNewMod = np.logspace(start = np.log10(self.psiMin), stop = np.log10(self.psiMax),\n",
    "                                     num = self.model.npoints, endpoint = True)\n",
    "        newModel = VanGenuchten(thR = self.model.thR, thS = self.model.thS, \n",
    "                                aVG = self.model.aVG, nVG = self.model.nVG, mVG = self.model.mVG, \n",
    "                                lVG = self.model.lVG, ksat = self.model.ksat, psi = self.psiNewMod)\n",
    "        \n",
    "        self.psiKisch = newModel.hcf()[0] # suction vector\n",
    "        self.kKisch = newModel.hcf()[1] # hydraulic conductivity vector\n",
    "                \n",
    "        # delta psi\n",
    "        self.psiKischB = np.append(self.psiMin, self.psiKisch)\n",
    "        self.deltaPsiKisch = []\n",
    "        for i in range(1, len(self.psiKischB)):\n",
    "            d = self.psiKischB[i] - self.psiKischB[i-1]\n",
    "            self.deltaPsiKisch.append(d)\n",
    "        self.deltaPsiKisch = np.array(self.deltaPsiKisch)\n",
    "        \n",
    "        # kisch\n",
    "        zPieces = self.deltaPsiKisch / (1 - self.q/self.kKisch) # pieces to sum\n",
    "        self.z = []\n",
    "        for i in range(0, len(self.deltaPsiKisch)):\n",
    "            self.z.append(np.sum(zPieces[0:i]))\n",
    "        self.z = np.array(self.z) + self.zMin     \n",
    "        \n",
    "        return([self.psiKisch, self.z, self.psiMax])"
   ]
  },
  {
   "cell_type": "markdown",
   "metadata": {},
   "source": [
    "## Matériaux"
   ]
  },
  {
   "cell_type": "markdown",
   "metadata": {},
   "source": [
    "Exécuter la cellule qui correpond à vos matériaux."
   ]
  },
  {
   "cell_type": "code",
   "execution_count": 96,
   "metadata": {
    "collapsed": true
   },
   "outputs": [],
   "source": [
    "# CBL parameters\n",
    "cblthR = 0.017\n",
    "cblthS = 0.37\n",
    "cblaVG = 3.07 * 9.807 # 9.807 pour convertir en en m-1\n",
    "cblnVG = 3.33\n",
    "cblmVG = 1 - 1/cblnVG\n",
    "cbllVG = 0.5\n",
    "cblksat = 2.3e-3 # m/s\n",
    "\n",
    "# MRL parameters\n",
    "mrlthR = 0.03 # 0.1 # \n",
    "mrlthS = 0.4 #0.43 # \n",
    "mrlaVG = 0.347 * 9.807 #0.14 * 9.807 # 9.807 pour convertir en en m-1\n",
    "mrlnVG = 2.29 # 1.23 # \n",
    "mrlmVG = 1 - 1/mrlnVG\n",
    "mrllVG = 0.5\n",
    "mrlksat = 8e-5 # 1.9e-7# m/s"
   ]
  },
  {
   "cell_type": "markdown",
   "metadata": {},
   "source": [
    "## Modèle d'infiltration vertical"
   ]
  },
  {
   "cell_type": "markdown",
   "metadata": {},
   "source": [
    "### Créer des instances pour les deux matériaux"
   ]
  },
  {
   "cell_type": "code",
   "execution_count": 97,
   "metadata": {
    "collapsed": true
   },
   "outputs": [],
   "source": [
    "npoints = 500\n",
    "psiCBL = np.logspace(start = -2, stop = 2, num = npoints, endpoint = True)\n",
    "psiMRL = np.logspace(start = -2, stop = 2, num = npoints, endpoint = True)\n",
    "\n",
    "cblModel = VanGenuchten(thR = cblthR, thS = cblthS, aVG = cblaVG, nVG = cblnVG, mVG = 1-1/cblnVG, \n",
    "                        lVG = cbllVG, ksat = cblksat, psi = psiCBL)\n",
    "mrlModel = VanGenuchten(thR = mrlthR, thS = mrlthS, aVG = mrlaVG, nVG = mrlnVG, mVG = 1-1/mrlnVG, \n",
    "                        lVG = mrllVG, ksat = mrlksat, psi = psiMRL)"
   ]
  },
  {
   "cell_type": "markdown",
   "metadata": {},
   "source": [
    "### Calculer le modèle de Kisch"
   ]
  },
  {
   "cell_type": "code",
   "execution_count": 98,
   "metadata": {
    "collapsed": false
   },
   "outputs": [
    {
     "name": "stdout",
     "output_type": "stream",
     "text": [
      "La succion maximale obtenur dans la CBL pour un débit de  1e-08 m/s est de 0.146582685679 m.\n",
      "La succion maximale obtenur dans la MRL pour un débit de  1e-08 m/s est de 1.30238378993 m.\n"
     ]
    }
   ],
   "source": [
    "unit_flow = 1e-8\n",
    "\n",
    "# CBL profile\n",
    "profileCBL = VerticalFlow(model = cblModel, q = unit_flow, psiMin = 1e-4, zMin = 0)\n",
    "profileCBL.kisch()\n",
    "\n",
    "# MRL profile\n",
    "profileMRL = VerticalFlow(model = mrlModel, q = unit_flow, \n",
    "                          psiMin = np.max(profileCBL.kisch()[0]), zMin = 0.5, perc = 1)\n",
    "profileMRL.kisch()\n",
    "\n",
    "print ('La succion maximale obtenur dans la CBL pour un débit de ', unit_flow, 'm/s est de', profileCBL.psiMax, 'm.')\n",
    "print ('La succion maximale obtenur dans la MRL pour un débit de ', unit_flow, 'm/s est de', profileMRL.psiMax, 'm.')"
   ]
  },
  {
   "cell_type": "markdown",
   "metadata": {},
   "source": [
    "### Graphiques des fonctions hydrauliques\n"
   ]
  },
  {
   "cell_type": "code",
   "execution_count": 99,
   "metadata": {
    "collapsed": false
   },
   "outputs": [
    {
     "name": "stdout",
     "output_type": "stream",
     "text": [
      "Populating the interactive namespace from numpy and matplotlib\n"
     ]
    },
    {
     "name": "stderr",
     "output_type": "stream",
     "text": [
      "WARNING: pylab import has clobbered these variables: ['axes', 'legend']\n",
      "`%matplotlib` prevents importing * from pylab and numpy\n"
     ]
    },
    {
     "data": {
      "image/png": "[encoded data removed]",
      "text/plain": [
       "<matplotlib.figure.Figure at 0x7b4b240>"
      ]
     },
     "metadata": {},
     "output_type": "display_data"
    }
   ],
   "source": [
    "%pylab inline\n",
    "import matplotlib.pyplot as plt\n",
    "#import seaborn as sns\n",
    "#sns.set()\n",
    "import pandas as pd\n",
    "\n",
    "data = pd.DataFrame.from_items([('psi', cblModel.wrc()[0]),\n",
    "                                ('theta', cblModel.wrc()[1])])\n",
    "fontSize = 16\n",
    "fig1, axes = plt.subplots(nrows=2, ncols=1, figsize=(6, 12))\n",
    "axes[0].set_axisbelow(True)\n",
    "axes[0].tick_params(labelsize = fontSize * 0.8)\n",
    "axes[0].grid(b=True, which='major', color='#eeeeee', linestyle='-')\n",
    "axes[0].grid(b=True, which='minor', color='#e9e9e9', linestyle='-')\n",
    "axes[0].set_ylabel(r'$\\theta (m^3/m^3)$', fontsize = fontSize)\n",
    "axes[0].set_xscale('log')\n",
    "axes[0].set_xticks([0.1, 1, 10, 100, 1000])\n",
    "axes[0].get_xaxis().set_major_formatter(matplotlib.ticker.ScalarFormatter())\n",
    "axes[0].plot(cblModel.wrc()[0] * 9.807, cblModel.wrc()[1], linestyle='-', color = 'black', \n",
    "             linewidth=2, label=\"CBL material\")\n",
    "axes[0].plot(mrlModel.wrc()[0] * 9.807, mrlModel.wrc()[1], linestyle='-', color = 'black', \n",
    "             label=\"MRL material\")\n",
    "legend = axes[0].legend(fontsize = fontSize * 0.8)\n",
    "frame = legend.get_frame()\n",
    "frame.set_facecolor('1.00')\n",
    "\n",
    "axes[1].set_axisbelow(True)\n",
    "axes[1].tick_params(labelsize = fontSize * 0.8)\n",
    "axes[1].grid(b=True, which='major', color='#eeeeee', linestyle='-')\n",
    "axes[1].grid(b=True, which='minor', color='#e9e9e9', linestyle='-')\n",
    "axes[1].set_xlabel(r'$s (kPa)$', fontsize = fontSize)\n",
    "axes[1].set_ylabel(r'$k (m/s)$', fontsize = fontSize)\n",
    "axes[1].set_xscale('log')\n",
    "axes[1].set_xticks([0.1, 1, 10, 100, 1000])\n",
    "axes[1].set_yscale('log')\n",
    "axes[1].set_ylim([1e-16, 1e-2])\n",
    "axes[1].get_xaxis().set_major_formatter(matplotlib.ticker.ScalarFormatter())\n",
    "\n",
    "# kFn\n",
    "axes[1].plot(cblModel.hcf()[0] * 9.807, cblModel.hcf()[1], linestyle='-', linewidth = 2, color = 'black', label=\"CBL material\")\n",
    "axes[1].plot(mrlModel.hcf()[0] * 9.807, mrlModel.hcf()[1], linestyle='-', color = 'black', label=\"MRL material\")\n",
    "\n",
    "# Model\n",
    "axes[1].plot([0.1, 1000], [unit_flow, unit_flow], # profileMRL.psiMax\n",
    "             linestyle='--', color = 'black', label=\"Unit flow\") #  unit flow\n",
    "axes[1].plot([profileCBL.psiMax * 9.807, profileCBL.psiMax * 9.807], [unit_flow, 1e-16],\n",
    "             linestyle='-.', color = 'black', label=r'$s_{CBL_{max}}$') \n",
    "axes[1].plot([profileMRL.psiMax * 9.807, profileMRL.psiMax * 9.807], [unit_flow, 1e-16], \n",
    "             linestyle=':', color = 'black', label=r'$s_{MRL_{max}}$')\n",
    "axes[1].text(profileCBL.psiMax * 9.807 - 0.9, 5e-9, r\"$s_{max_{CBL}}$\", \n",
    "             fontsize = fontSize * 0.8, color=\"black\", rotation = \"vertical\")\n",
    "axes[1].text(profileMRL.psiMax * 9.807 + 1.0, 5e-9, r\"$s_{max_{MRL}}$\", \n",
    "             fontsize = fontSize * 0.8, color=\"black\", rotation = \"vertical\")\n",
    "\n",
    "legend = axes[1].legend(fontsize = fontSize * 0.8)\n",
    "frame = legend.get_frame()\n",
    "frame.set_facecolor('1.00')\n",
    "#fig1.savefig('fig1.svg') "
   ]
  },
  {
   "cell_type": "markdown",
   "metadata": {},
   "source": [
    "### Graphiques des profils"
   ]
  },
  {
   "cell_type": "code",
   "execution_count": 100,
   "metadata": {
    "collapsed": false
   },
   "outputs": [
    {
     "data": {
      "text/plain": [
       "[<matplotlib.lines.Line2D at 0x10a2f198>]"
      ]
     },
     "execution_count": 100,
     "metadata": {},
     "output_type": "execute_result"
    },
    {
     "data": {
      "image/png": "[encoded data removed]",
      "text/plain": [
       "<matplotlib.figure.Figure at 0x7b0aeb8>"
      ]
     },
     "metadata": {},
     "output_type": "display_data"
    }
   ],
   "source": [
    "import matplotlib.ticker as plticker\n",
    "\n",
    "fig2, axes = plt.subplots(nrows=1, ncols=3, figsize=(16,6))\n",
    "\n",
    "# Suction profile\n",
    "axes[0].set_axisbelow(True)\n",
    "axes[0].tick_params(labelsize = fontSize * 0.8)\n",
    "\n",
    "axes[0].xaxis.set_major_locator(plticker.MultipleLocator(base=1.0))\n",
    "\n",
    "axes[0].grid(b=True, which='major', color='#eeeeee', linestyle='-')\n",
    "axes[0].grid(b=True, which='minor', color='#e9e9e9', linestyle='-')\n",
    "axes[0].set_xlabel(r'$s (kPa)$', fontsize = fontSize)\n",
    "axes[0].set_ylabel(r'$Elevation (m)$', fontsize = fontSize)\n",
    "axes[0].plot(np.append(profileCBL.kisch()[0], profileMRL.kisch()[0]) * 9.807,\n",
    "             np.append(profileCBL.kisch()[1], profileMRL.kisch()[1]),\n",
    "             linestyle='-', color = 'black')\n",
    "axes[0].plot([profileCBL.psiMax * 9.807, profileCBL.psiMax * 9.807],\n",
    "             [0, 0.5],\n",
    "             linestyle='-.', color = 'black')\n",
    "axes[0].plot([profileMRL.psiMax * 9.807,profileMRL.psiMax * 9.807],\n",
    "             [0, max(profileMRL.kisch()[1])],\n",
    "             linestyle=':', color = 'black')\n",
    "axes[0].plot([0, 4.0], [0.5, 0.5], linestyle = \"--\", color = \"#aaaaaa\")\n",
    "\n",
    "# Water content profile\n",
    "psiInterfaceCBL = np.append(profileCBL.kisch()[0], profileCBL.psiMax)\n",
    "zInterfaceCBL = np.append(profileCBL.kisch()[1], 0.49999)\n",
    "cblNew = VanGenuchten(thR = cblthR, thS = cblthS, aVG = cblaVG, nVG = cblnVG, mVG = 1-1/cblnVG, \n",
    "                      lVG = cbllVG, ksat = cblksat, psi = psiInterfaceCBL)\n",
    "mrlNew = VanGenuchten(thR = mrlthR, thS = mrlthS, aVG = mrlaVG, nVG = mrlnVG, mVG = 1-1/mrlnVG, \n",
    "                      lVG = mrllVG, ksat = mrlksat, psi = profileMRL.kisch()[0])\n",
    "\n",
    "axes[1].set_axisbelow(True)\n",
    "axes[1].tick_params(labelsize = fontSize * 0.8)\n",
    "axes[1].grid(b=True, which='major', color='#eeeeee', linestyle='-')\n",
    "axes[1].grid(b=True, which='minor', color='#e9e9e9', linestyle='-')\n",
    "axes[1].set_xlabel(r'$\\theta (m^3/m^3)$', fontsize = fontSize)\n",
    "axes[1].plot(np.append(cblNew.wrc()[1], mrlNew.wrc()[1]),\n",
    "             np.append(zInterfaceCBL, profileMRL.kisch()[1]),\n",
    "             linestyle='-', color = 'black')\n",
    "axes[1].plot([0, 0.5], [0.5, 0.5], linestyle = \"--\", color = \"#aaaaaa\")\n",
    "\n",
    "# Hydraulic conductivity profile\n",
    "axes[2].set_axisbelow(True)\n",
    "axes[2].tick_params(labelsize = fontSize * 0.8)\n",
    "axes[2].grid(b=True, which='major', color='#eeeeee', linestyle='-')\n",
    "axes[2].grid(b=True, which='minor', color='#e9e9e9', linestyle='-')\n",
    "axes[2].set_xlabel(r'$k (m/s)$', fontsize = fontSize)\n",
    "axes[2].set_xscale('log')\n",
    "#axes[2].set_xticks([0.1, 1, 10, 100])\n",
    "axes[2].set_xlim([1e-9, 1e-4])\n",
    "#axes[2].get_xaxis().set_major_formatter(matplotlib.ticker.ScalarFormatter())\n",
    "axes[2].plot(np.append(cblNew.hcf()[1], mrlNew.hcf()[1]),\n",
    "             np.append(zInterfaceCBL, profileMRL.kisch()[1]),\n",
    "             linestyle='-', color = 'black')\n",
    "axes[2].plot([unit_flow, unit_flow], [0, max(profileMRL.kisch()[1])], linestyle = \"--\", color = \"black\")\n",
    "axes[2].plot([0, 0.5], [1e-3, 0.5], linestyle = \"--\", color = \"#aaaaaa\")\n",
    "#axes[2].text(4e-8, 0.8, r\"$q=10^{-7} m/s$\", fontsize = fontSize * 0.8, color=\"black\", rotation = \"vertical\")\n",
    "#fig2.savefig('fig2.svg') "
   ]
  },
  {
   "cell_type": "markdown",
   "metadata": {},
   "source": [
    "## Drainage latéral dans une barrière capillaire inclinée\n",
    "\n",
    "Ross (1990) décrit le modèle suivant.\n",
    "\n",
    "\\begin{align}\n",
    "Q_{max} = \\tan(\\phi) \\int_{\\psi_{CBC}}^{\\psi_{CRC}} k(\\psi) d\\psi \\\\\n",
    "L = \\frac {Q_{max}}{q}\n",
    "\\end{align}"
   ]
  },
  {
   "cell_type": "code",
   "execution_count": 101,
   "metadata": {
    "collapsed": true
   },
   "outputs": [],
   "source": [
    "def k_vanGenuchten(x, aVG, nVG, mVG, ksat, lVG = 0.5):\n",
    "        k = ksat * ((1 - ((aVG * x)**(nVG * mVG)) * \\\n",
    "        ((1 + ((aVG * x)**nVG))**(-mVG)))**2) / \\\n",
    "        ((1 + ((aVG * x)**nVG))**(mVG * lVG))\n",
    "        return(k)"
   ]
  },
  {
   "cell_type": "markdown",
   "metadata": {},
   "source": [
    "### Épaisseur minimale de la couche de bris capillaire (CBC ou CBL)"
   ]
  },
  {
   "cell_type": "code",
   "execution_count": 102,
   "metadata": {
    "collapsed": false
   },
   "outputs": [
    {
     "data": {
      "text/plain": [
       "0.14658268567879312"
      ]
     },
     "execution_count": 102,
     "metadata": {},
     "output_type": "execute_result"
    }
   ],
   "source": [
    "profileCBL.psiMax"
   ]
  },
  {
   "cell_type": "markdown",
   "metadata": {},
   "source": [
    "### Épaisseur de la couche de rétention capillaire (CRC ou MRL)"
   ]
  },
  {
   "cell_type": "code",
   "execution_count": 105,
   "metadata": {
    "collapsed": false
   },
   "outputs": [],
   "source": [
    "pente = 0.25\n",
    "\n",
    "# changer le multiplicateur  profileMRL.psiMax * 1 ou profileMRL.psiMax * 10 pour obtenir une plage de calcul plus large\n",
    "mrlPsi = np.linspace(start = profileCBL.psiMax, stop = profileMRL.psiMax * 1, num = 100, endpoint = True) \n",
    "mrlTh = mrlPsi - profileCBL.psiMax\n",
    "Qmax = []\n",
    "L = []\n",
    "for i in range(0, len(mrlPsi)):\n",
    "    Qmax.append(pente * quad(k_vanGenuchten, profileCBL.psiMax, mrlPsi[i], args=(mrlaVG, mrlnVG, mrlmVG, mrlksat, mrllVG))[0])\n",
    "    L.append(Qmax[i] / unit_flow)\n",
    "#quad(integrand, profileCBL.psiMax, 1, args=(mrlaVG, mrlnVG, mrlmVG, mrlksat, mrllVG))[0]"
   ]
  },
  {
   "cell_type": "code",
   "execution_count": 106,
   "metadata": {
    "collapsed": false
   },
   "outputs": [
    {
     "data": {
      "image/png": "[encoded data removed]",
      "text/plain": [
       "<matplotlib.figure.Figure at 0xb3442b0>"
      ]
     },
     "metadata": {},
     "output_type": "display_data"
    }
   ],
   "source": [
    "plot(mrlTh, L, color = 'black')\n",
    "xlabel('MRL thickness (m)', fontsize = fontSize)\n",
    "ylabel('Diversion length (m)', fontsize = fontSize)\n",
    "grid()"
   ]
  },
  {
   "cell_type": "code",
   "execution_count": 107,
   "metadata": {
    "collapsed": false
   },
   "outputs": [
    {
     "name": "stdout",
     "output_type": "stream",
     "text": [
      "Le débit de transfert maximal dans la barrière capillaire est de 7.746872984104624e-07 m²/s.\n",
      "La longueur de transfert maximale dans la barrière capillaire est de 77.46872984104624 m.\n"
     ]
    }
   ],
   "source": [
    "print ('Le débit de transfert maximal dans la barrière capillaire est de', max(Qmax), 'm²/s.')\n",
    "print ('La longueur de transfert maximale dans la barrière capillaire est de', max(L), 'm.')"
   ]
  },
  {
   "cell_type": "code",
   "execution_count": 108,
   "metadata": {
    "collapsed": false
   },
   "outputs": [
    {
     "data": {
      "text/html": [
       "<div>\n",
       "<table border=\"1\" class=\"dataframe\">\n",
       "  <thead>\n",
       "    <tr style=\"text-align: right;\">\n",
       "      <th></th>\n",
       "      <th>0</th>\n",
       "    </tr>\n",
       "  </thead>\n",
       "  <tbody>\n",
       "    <tr>\n",
       "      <th>0.000000</th>\n",
       "      <td>0.000000</td>\n",
       "    </tr>\n",
       "    <tr>\n",
       "      <th>8.405595</th>\n",
       "      <td>0.011675</td>\n",
       "    </tr>\n",
       "    <tr>\n",
       "      <th>15.930893</th>\n",
       "      <td>0.023350</td>\n",
       "    </tr>\n",
       "    <tr>\n",
       "      <th>22.651422</th>\n",
       "      <td>0.035024</td>\n",
       "    </tr>\n",
       "    <tr>\n",
       "      <th>28.640636</th>\n",
       "      <td>0.046699</td>\n",
       "    </tr>\n",
       "    <tr>\n",
       "      <th>33.968814</th>\n",
       "      <td>0.058374</td>\n",
       "    </tr>\n",
       "    <tr>\n",
       "      <th>38.702270</th>\n",
       "      <td>0.070049</td>\n",
       "    </tr>\n",
       "    <tr>\n",
       "      <th>42.902843</th>\n",
       "      <td>0.081723</td>\n",
       "    </tr>\n",
       "    <tr>\n",
       "      <th>46.627615</th>\n",
       "      <td>0.093398</td>\n",
       "    </tr>\n",
       "    <tr>\n",
       "      <th>49.928819</th>\n",
       "      <td>0.105073</td>\n",
       "    </tr>\n",
       "    <tr>\n",
       "      <th>52.853894</th>\n",
       "      <td>0.116748</td>\n",
       "    </tr>\n",
       "    <tr>\n",
       "      <th>55.445651</th>\n",
       "      <td>0.128422</td>\n",
       "    </tr>\n",
       "    <tr>\n",
       "      <th>57.742510</th>\n",
       "      <td>0.140097</td>\n",
       "    </tr>\n",
       "    <tr>\n",
       "      <th>59.778793</th>\n",
       "      <td>0.151772</td>\n",
       "    </tr>\n",
       "    <tr>\n",
       "      <th>61.585043</th>\n",
       "      <td>0.163447</td>\n",
       "    </tr>\n",
       "    <tr>\n",
       "      <th>63.188348</th>\n",
       "      <td>0.175121</td>\n",
       "    </tr>\n",
       "    <tr>\n",
       "      <th>64.612672</th>\n",
       "      <td>0.186796</td>\n",
       "    </tr>\n",
       "    <tr>\n",
       "      <th>65.879165</th>\n",
       "      <td>0.198471</td>\n",
       "    </tr>\n",
       "    <tr>\n",
       "      <th>67.006464</th>\n",
       "      <td>0.210146</td>\n",
       "    </tr>\n",
       "    <tr>\n",
       "      <th>68.010972</th>\n",
       "      <td>0.221820</td>\n",
       "    </tr>\n",
       "    <tr>\n",
       "      <th>68.907108</th>\n",
       "      <td>0.233495</td>\n",
       "    </tr>\n",
       "    <tr>\n",
       "      <th>69.707539</th>\n",
       "      <td>0.245170</td>\n",
       "    </tr>\n",
       "    <tr>\n",
       "      <th>70.423394</th>\n",
       "      <td>0.256845</td>\n",
       "    </tr>\n",
       "    <tr>\n",
       "      <th>71.064442</th>\n",
       "      <td>0.268519</td>\n",
       "    </tr>\n",
       "    <tr>\n",
       "      <th>71.639263</th>\n",
       "      <td>0.280194</td>\n",
       "    </tr>\n",
       "    <tr>\n",
       "      <th>72.155396</th>\n",
       "      <td>0.291869</td>\n",
       "    </tr>\n",
       "    <tr>\n",
       "      <th>72.619465</th>\n",
       "      <td>0.303544</td>\n",
       "    </tr>\n",
       "    <tr>\n",
       "      <th>73.037293</th>\n",
       "      <td>0.315218</td>\n",
       "    </tr>\n",
       "    <tr>\n",
       "      <th>73.414006</th>\n",
       "      <td>0.326893</td>\n",
       "    </tr>\n",
       "    <tr>\n",
       "      <th>73.754116</th>\n",
       "      <td>0.338568</td>\n",
       "    </tr>\n",
       "    <tr>\n",
       "      <th>...</th>\n",
       "      <td>...</td>\n",
       "    </tr>\n",
       "    <tr>\n",
       "      <th>77.277010</th>\n",
       "      <td>0.817233</td>\n",
       "    </tr>\n",
       "    <tr>\n",
       "      <th>77.289900</th>\n",
       "      <td>0.828908</td>\n",
       "    </tr>\n",
       "    <tr>\n",
       "      <th>77.302046</th>\n",
       "      <td>0.840583</td>\n",
       "    </tr>\n",
       "    <tr>\n",
       "      <th>77.313498</th>\n",
       "      <td>0.852257</td>\n",
       "    </tr>\n",
       "    <tr>\n",
       "      <th>77.324302</th>\n",
       "      <td>0.863932</td>\n",
       "    </tr>\n",
       "    <tr>\n",
       "      <th>77.334501</th>\n",
       "      <td>0.875607</td>\n",
       "    </tr>\n",
       "    <tr>\n",
       "      <th>77.344134</th>\n",
       "      <td>0.887282</td>\n",
       "    </tr>\n",
       "    <tr>\n",
       "      <th>77.353238</th>\n",
       "      <td>0.898956</td>\n",
       "    </tr>\n",
       "    <tr>\n",
       "      <th>77.361848</th>\n",
       "      <td>0.910631</td>\n",
       "    </tr>\n",
       "    <tr>\n",
       "      <th>77.369994</th>\n",
       "      <td>0.922306</td>\n",
       "    </tr>\n",
       "    <tr>\n",
       "      <th>77.377705</th>\n",
       "      <td>0.933981</td>\n",
       "    </tr>\n",
       "    <tr>\n",
       "      <th>77.385010</th>\n",
       "      <td>0.945655</td>\n",
       "    </tr>\n",
       "    <tr>\n",
       "      <th>77.391932</th>\n",
       "      <td>0.957330</td>\n",
       "    </tr>\n",
       "    <tr>\n",
       "      <th>77.398496</th>\n",
       "      <td>0.969005</td>\n",
       "    </tr>\n",
       "    <tr>\n",
       "      <th>77.404723</th>\n",
       "      <td>0.980680</td>\n",
       "    </tr>\n",
       "    <tr>\n",
       "      <th>77.410634</th>\n",
       "      <td>0.992354</td>\n",
       "    </tr>\n",
       "    <tr>\n",
       "      <th>77.416246</th>\n",
       "      <td>1.004029</td>\n",
       "    </tr>\n",
       "    <tr>\n",
       "      <th>77.421579</th>\n",
       "      <td>1.015704</td>\n",
       "    </tr>\n",
       "    <tr>\n",
       "      <th>77.426647</th>\n",
       "      <td>1.027379</td>\n",
       "    </tr>\n",
       "    <tr>\n",
       "      <th>77.431467</th>\n",
       "      <td>1.039054</td>\n",
       "    </tr>\n",
       "    <tr>\n",
       "      <th>77.436053</th>\n",
       "      <td>1.050728</td>\n",
       "    </tr>\n",
       "    <tr>\n",
       "      <th>77.440418</th>\n",
       "      <td>1.062403</td>\n",
       "    </tr>\n",
       "    <tr>\n",
       "      <th>77.444575</th>\n",
       "      <td>1.074078</td>\n",
       "    </tr>\n",
       "    <tr>\n",
       "      <th>77.448535</th>\n",
       "      <td>1.085753</td>\n",
       "    </tr>\n",
       "    <tr>\n",
       "      <th>77.452309</th>\n",
       "      <td>1.097427</td>\n",
       "    </tr>\n",
       "    <tr>\n",
       "      <th>77.455908</th>\n",
       "      <td>1.109102</td>\n",
       "    </tr>\n",
       "    <tr>\n",
       "      <th>77.459341</th>\n",
       "      <td>1.120777</td>\n",
       "    </tr>\n",
       "    <tr>\n",
       "      <th>77.462616</th>\n",
       "      <td>1.132452</td>\n",
       "    </tr>\n",
       "    <tr>\n",
       "      <th>77.465743</th>\n",
       "      <td>1.144126</td>\n",
       "    </tr>\n",
       "    <tr>\n",
       "      <th>77.468730</th>\n",
       "      <td>1.155801</td>\n",
       "    </tr>\n",
       "  </tbody>\n",
       "</table>\n",
       "<p>100 rows × 1 columns</p>\n",
       "</div>"
      ],
      "text/plain": [
       "                  0\n",
       "0.000000   0.000000\n",
       "8.405595   0.011675\n",
       "15.930893  0.023350\n",
       "22.651422  0.035024\n",
       "28.640636  0.046699\n",
       "33.968814  0.058374\n",
       "38.702270  0.070049\n",
       "42.902843  0.081723\n",
       "46.627615  0.093398\n",
       "49.928819  0.105073\n",
       "52.853894  0.116748\n",
       "55.445651  0.128422\n",
       "57.742510  0.140097\n",
       "59.778793  0.151772\n",
       "61.585043  0.163447\n",
       "63.188348  0.175121\n",
       "64.612672  0.186796\n",
       "65.879165  0.198471\n",
       "67.006464  0.210146\n",
       "68.010972  0.221820\n",
       "68.907108  0.233495\n",
       "69.707539  0.245170\n",
       "70.423394  0.256845\n",
       "71.064442  0.268519\n",
       "71.639263  0.280194\n",
       "72.155396  0.291869\n",
       "72.619465  0.303544\n",
       "73.037293  0.315218\n",
       "73.414006  0.326893\n",
       "73.754116  0.338568\n",
       "...             ...\n",
       "77.277010  0.817233\n",
       "77.289900  0.828908\n",
       "77.302046  0.840583\n",
       "77.313498  0.852257\n",
       "77.324302  0.863932\n",
       "77.334501  0.875607\n",
       "77.344134  0.887282\n",
       "77.353238  0.898956\n",
       "77.361848  0.910631\n",
       "77.369994  0.922306\n",
       "77.377705  0.933981\n",
       "77.385010  0.945655\n",
       "77.391932  0.957330\n",
       "77.398496  0.969005\n",
       "77.404723  0.980680\n",
       "77.410634  0.992354\n",
       "77.416246  1.004029\n",
       "77.421579  1.015704\n",
       "77.426647  1.027379\n",
       "77.431467  1.039054\n",
       "77.436053  1.050728\n",
       "77.440418  1.062403\n",
       "77.444575  1.074078\n",
       "77.448535  1.085753\n",
       "77.452309  1.097427\n",
       "77.455908  1.109102\n",
       "77.459341  1.120777\n",
       "77.462616  1.132452\n",
       "77.465743  1.144126\n",
       "77.468730  1.155801\n",
       "\n",
       "[100 rows x 1 columns]"
      ]
     },
     "execution_count": 108,
     "metadata": {},
     "output_type": "execute_result"
    }
   ],
   "source": [
    "pd.DataFrame(mrlTh, L)"
   ]
  },
  {
   "cell_type": "code",
   "execution_count": null,
   "metadata": {
    "collapsed": true
   },
   "outputs": [],
   "source": []
  }
 ],
 "metadata": {
  "kernelspec": {
   "display_name": "Python 3",
   "language": "python",
   "name": "python3"
  },
  "language_info": {
   "codemirror_mode": {
    "name": "ipython",
    "version": 3
   },
   "file_extension": ".py",
   "mimetype": "text/x-python",
   "name": "python",
   "nbconvert_exporter": "python",
   "pygments_lexer": "ipython3",
   "version": "3.4.3"
  },
  "name": "barriere-capillaire.ipynb"
 },
 "nbformat": 4,
 "nbformat_minor": 0
}
